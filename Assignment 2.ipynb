{
 "cells": [
  {
   "cell_type": "code",
   "execution_count": 5,
   "metadata": {},
   "outputs": [
    {
     "name": "stdout",
     "output_type": "stream",
     "text": [
      "Name: Gautham\n",
      "Age: 37\n",
      "Address: Bangalore, Karnataka, India\n"
     ]
    }
   ],
   "source": [
    "#Create a program that displays your name and complete mailing address formattedin the manner that you would usually see it on the outside of an envelope. \n",
    "#Your program does not need to read any input from the user\n",
    "\n",
    "#I am using functions in python with def function name()\n",
    "\n",
    "def personal_details():\n",
    "    name, age = \"Gautham\", 37\n",
    "    address = \"Bangalore, Karnataka, India\"\n",
    "    print(\"Name: {}\\nAge: {}\\nAddress: {}\".format(name, age, address))\n",
    "\n",
    "personal_details()"
   ]
  },
  {
   "cell_type": "code",
   "execution_count": 6,
   "metadata": {},
   "outputs": [
    {
     "name": "stdout",
     "output_type": "stream",
     "text": [
      "what is your name: gautham\n"
     ]
    },
    {
     "data": {
      "text/plain": [
       "('hello', 'gautham')"
      ]
     },
     "execution_count": 6,
     "metadata": {},
     "output_type": "execute_result"
    }
   ],
   "source": [
    "#Write a program that asks the user to enter his or her name. \n",
    "#The program should respond with a message that says hello to the user, using his or her name\n",
    "# i am using input() function\n",
    "name=input('what is your name: ')\n",
    "'hello', name"
   ]
  },
  {
   "cell_type": "code",
   "execution_count": 7,
   "metadata": {},
   "outputs": [
    {
     "name": "stdout",
     "output_type": "stream",
     "text": [
      "40.5\n",
      "50.7\n",
      "The area of the room is 2053.35 square feet\n"
     ]
    }
   ],
   "source": [
    "#Write a program that asks the user to enter the width and length of a room. \n",
    "#Once the values have been read, your program should compute and display the area of the room.\n",
    "#The length and the width will be entered as floating-pointnumbers.\n",
    "#Include units in your prompt and output message; \n",
    "#either feet or meters, depending on which unit you are more comfortable working with\n",
    "\n",
    "a=float(input())\n",
    "b=float(input())\n",
    "c=a*b\n",
    "d=round(c,2)\n",
    "print(\"The area of the room is \" + str(d) + \" square feet\")"
   ]
  },
  {
   "cell_type": "code",
   "execution_count": 8,
   "metadata": {},
   "outputs": [
    {
     "name": "stdout",
     "output_type": "stream",
     "text": [
      "40\n",
      "50\n",
      "The area of the field is 0.05 acres\n"
     ]
    }
   ],
   "source": [
    "#Create a program that reads the length and width of a farmer’s field from the user in feet. \n",
    "#Display the area of the field in acres. Hint: There are 43,560 square feet in an acre.\n",
    "\n",
    "a=int(input())\n",
    "b=int(input())\n",
    "c=a*b/43560\n",
    "d=round(c,2)\n",
    "print(\"The area of the field is \" + str(d) + \" acres\")"
   ]
  },
  {
   "cell_type": "code",
   "execution_count": 9,
   "metadata": {},
   "outputs": [
    {
     "name": "stdout",
     "output_type": "stream",
     "text": [
      "Enter a positive integer: 20\n",
      "The sum of the first 20 positive integers 210.0\n"
     ]
    }
   ],
   "source": [
    "#Write a program that reads a positive integer, n, from the user and then displays the sum of allthe integers from 1 to n. \n",
    "#The sum of the first n positive integers can be computed using the formula: sum = (n)(n + 1)/2\n",
    "\n",
    "n = int(input(\"Enter a positive integer: \"))\n",
    "sum = n * (n+1) / 2\n",
    "print(\"The sum of the first\",n,\"positive integers\",sum)"
   ]
  },
  {
   "cell_type": "code",
   "execution_count": 4,
   "metadata": {},
   "outputs": [
    {
     "name": "stdout",
     "output_type": "stream",
     "text": [
      "Enter the number of widgets: 75\n",
      "Enter the number of gizmo: 112\n",
      "Total Weight = 18169 gm\n"
     ]
    }
   ],
   "source": [
    "#An online retailer sells two products: widgets and gizmos. \n",
    "#Each widget weighs 75 grams. \n",
    "#Each gizmo weighs 112 grams. \n",
    "#Write a program that reads the number of widgets and the number of gizmos in an order from the user.\n",
    "#Then your program should compute and display the total weight of the order\n",
    "\n",
    "widget=75\n",
    "gizmo=112\n",
    "number_of_widgets=int(input(\"Enter the number of widgets: \"))\n",
    "number_of_gizmo=int(input(\"Enter the number of gizmo: \"))\n",
    "widgets_weight=widget*number_of_widgets \n",
    "gizmos_weight=gizmo*number_of_gizmos \n",
    "total_weight=widgets_weight+gizmos_weight \n",
    "print(\"Total Weight = {0} gm\".format(total_weight))"
   ]
  }
 ],
 "metadata": {
  "kernelspec": {
   "display_name": "Python 3",
   "language": "python",
   "name": "python3"
  },
  "language_info": {
   "codemirror_mode": {
    "name": "ipython",
    "version": 3
   },
   "file_extension": ".py",
   "mimetype": "text/x-python",
   "name": "python",
   "nbconvert_exporter": "python",
   "pygments_lexer": "ipython3",
   "version": "3.7.7"
  }
 },
 "nbformat": 4,
 "nbformat_minor": 4
}
