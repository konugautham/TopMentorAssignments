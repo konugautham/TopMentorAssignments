{
 "cells": [
  {
   "cell_type": "code",
   "execution_count": 4,
   "metadata": {},
   "outputs": [
    {
     "name": "stdout",
     "output_type": "stream",
     "text": [
      "welcome to Python class\n"
     ]
    }
   ],
   "source": [
    "#Simple Message: Store a message in a variable, and then print that message\n",
    "my_message=\"welcome to Python class\"\n",
    "print(my_message)"
   ]
  },
  {
   "cell_type": "code",
   "execution_count": 7,
   "metadata": {},
   "outputs": [
    {
     "name": "stdout",
     "output_type": "stream",
     "text": [
      "i Love learning Python\n",
      "Its really easy to learn!\n"
     ]
    }
   ],
   "source": [
    "#Store a message in a variable andprint that message. \n",
    "#Then change the value of your variable to a new message andprint the new message.\n",
    "\n",
    "msg=\"i Love learning Python\"\n",
    "print(msg)\n",
    "\n",
    "msg=\"Its really easy to learn!\"\n",
    "print(msg)"
   ]
  },
  {
   "cell_type": "code",
   "execution_count": 9,
   "metadata": {},
   "outputs": [
    {
     "name": "stdout",
     "output_type": "stream",
     "text": [
      "Hello Eric,would you like to learn some python today?\n"
     ]
    }
   ],
   "source": [
    "#Store a person’s name in a variable andprint a message to that person. \n",
    "#Your message should be simple, such as, “Hello Eric, would you like to learn some Python today?”\n",
    "\n",
    "message=\"Hello Eric,would you like to learn some python today?\"\n",
    "print(message)"
   ]
  },
  {
   "cell_type": "code",
   "execution_count": 24,
   "metadata": {},
   "outputs": [
    {
     "name": "stdout",
     "output_type": "stream",
     "text": [
      "Albert Einstein once said, \"A person who never made a mistake\n",
      "never tried anything new.\"\n"
     ]
    }
   ],
   "source": [
    "#Find a quote from a famous person you admire. Print the quote and the name of its author. Your output should look something like the following, \n",
    "#including the quotation marks: Albert Einstein once said, “A person who never made a mistake never tried anything new\"\n",
    "print('Albert Einstein once said, \"A person who never made a mistake')\n",
    "print('never tried anything new.\"')"
   ]
  },
  {
   "cell_type": "code",
   "execution_count": 35,
   "metadata": {},
   "outputs": [
    {
     "data": {
      "text/plain": [
       "('Albert Einstein once said',\n",
       " 'A person who never made a mistake never tried anything new.')"
      ]
     },
     "execution_count": 35,
     "metadata": {},
     "output_type": "execute_result"
    }
   ],
   "source": [
    "#Repeat Exercise 4, but this time store the famous person’s name in a variable called famous_person. \n",
    "#Then compose your message and store it in a new variable called message.Print your message.\n",
    "\n",
    "famous_person=\"Albert Einstein once said\"\n",
    "message=(famous_person, \"A person who never made a mistake never tried anything new.\" )\n",
    "message"
   ]
  },
  {
   "cell_type": "code",
   "execution_count": 38,
   "metadata": {},
   "outputs": [
    {
     "name": "stdout",
     "output_type": "stream",
     "text": [
      "8\n",
      "8\n",
      "8\n",
      "8.0\n"
     ]
    }
   ],
   "source": [
    "#Write addition, subtraction, multiplication, and division operations that each result in the number 8.\n",
    "#Be sure to enclose your operations in print statements to see the results.\n",
    "#You should create four lines that look like this:print (5 + 3)\n",
    "#Your output should simply be four lines with the number 8 appearing once on each line.\n",
    "print(5+3)\n",
    "print(10-2)\n",
    "print(4*2)\n",
    "print(16/2)"
   ]
  },
  {
   "cell_type": "code",
   "execution_count": 43,
   "metadata": {},
   "outputs": [
    {
     "name": "stdout",
     "output_type": "stream",
     "text": [
      "My favourite number is 5\n"
     ]
    }
   ],
   "source": [
    "#Store your favourite number in a variable.Then, using that variable, create a message that reveals your favouritenumber\n",
    "#Print that message\n",
    "my_fav=5\n",
    "print(\"My favourite number is\",my_fav)"
   ]
  },
  {
   "cell_type": "code",
   "execution_count": 46,
   "metadata": {},
   "outputs": [
    {
     "name": "stdout",
     "output_type": "stream",
     "text": [
      "Gautham is learning Python now with Top Mentor from 6th June\n",
      "This Program makes you learn how to analuze, vizualize and model the data using python Libraries\n"
     ]
    }
   ],
   "source": [
    "#Choose two of the programs you’ve written andadd at least one comment to each.\n",
    "#If you don’t have anything specific to write because your programs are too simple at this point, just add your name and the current date at the top of each program file.\n",
    "#Then write one sentence describing what the program does\n",
    "print(\"Gautham is learning Python now with Top Mentor from 6th June\")\n",
    "print(\"This Program makes you learn how to analuze, vizualize and model the data using python Libraries\")"
   ]
  },
  {
   "cell_type": "code",
   "execution_count": 48,
   "metadata": {},
   "outputs": [
    {
     "name": "stdout",
     "output_type": "stream",
     "text": [
      "Gautham\n",
      "Ronith\n",
      "Shiva\n"
     ]
    }
   ],
   "source": [
    "#Store the names of a few of your friends in a list called names.\n",
    "#Print each person’s name by accessing each element in the list, one at a time.\n",
    "names=['Gautham','Ronith','Shiva']\n",
    "print(names[0])\n",
    "print(names[1])\n",
    "print(names[2])"
   ]
  },
  {
   "cell_type": "code",
   "execution_count": 53,
   "metadata": {},
   "outputs": [
    {
     "name": "stdout",
     "output_type": "stream",
     "text": [
      "Hi, Gautham\n",
      "Hi, Ronith\n",
      "Hi, Shiva\n"
     ]
    }
   ],
   "source": [
    "#Start with the list you used in Exercise 9, but instead of just printing each person’s name, print a message to them. \n",
    "#The text of each message should be the same, but each message should be personalized with the person’sname\n",
    "msg=\"Hi, \" + names[0]\n",
    "print(msg)\n",
    "msg=\"Hi, \" + names[1]\n",
    "print(msg)\n",
    "msg=\"Hi, \" + names[2]\n",
    "print(msg)"
   ]
  },
  {
   "cell_type": "code",
   "execution_count": 57,
   "metadata": {},
   "outputs": [
    {
     "name": "stdout",
     "output_type": "stream",
     "text": [
      "I would like to own a BMW someday!\n",
      "I am not a fan of the motorcylce brand BMW.\n",
      "I would like to own a Ducati someday!\n",
      "I am not a fan of the motorcylce brand Ducati.\n",
      "I would like to own a Honda someday!\n",
      "I am not a fan of the motorcylce brand Honda.\n"
     ]
    }
   ],
   "source": [
    "#Think of your favouritemode of transportation, \n",
    "#such as a motorcycle or a car, and make a list that stores several examples.\n",
    "#Use your list to print a series of statements about these items, such as “I would like to own a Honda motorcycle.\n",
    "mode_of_Trans=[\"BMW\",\"Ducati\",\"Honda\"]\n",
    "for element in mode_of_Trans:\n",
    "    print('I would like to own a ' + element + ' someday!')\n",
    "    print('I am not a fan of the motorcylce brand ' + element + '.')\n"
   ]
  }
 ],
 "metadata": {
  "kernelspec": {
   "display_name": "Python 3",
   "language": "python",
   "name": "python3"
  },
  "language_info": {
   "codemirror_mode": {
    "name": "ipython",
    "version": 3
   },
   "file_extension": ".py",
   "mimetype": "text/x-python",
   "name": "python",
   "nbconvert_exporter": "python",
   "pygments_lexer": "ipython3",
   "version": "3.7.7"
  }
 },
 "nbformat": 4,
 "nbformat_minor": 4
}
